{
 "cells": [
  {
   "cell_type": "code",
   "execution_count": 1,
   "metadata": {},
   "outputs": [
    {
     "data": {
      "image/png": "[encoded data removed]",
      "text/plain": [
       "<Figure size 432x288 with 9 Axes>"
      ]
     },
     "metadata": {
      "needs_background": "light"
     },
     "output_type": "display_data"
    }
   ],
   "source": [
    "import matplotlib.pyplot as plt\n",
    "import numpy as np\n",
    "\n",
    "x = np.arange(11)\n",
    "y = np.random.rand(len(x), 9)*10\n",
    "\n",
    "fig, axes = plt.subplots(3,3, sharex=True, sharey=True)\n",
    "\n",
    "for i, ax in enumerate(axes.flatten()):\n",
    "    ax.bar(x, y[:,i], color=plt.cm.Paired(i/10.))\n",
    "\n",
    "plt.show()"
   ]
  },
  {
   "cell_type": "code",
   "execution_count": 7,
   "metadata": {},
   "outputs": [
    {
     "data": {
      "text/plain": [
       "array([0.93448001, 7.81790706, 6.24509418, 0.22161886, 4.82654968,\n",
       "       2.5487404 , 8.14872161, 5.32046511, 4.20813215, 3.26508564,\n",
       "       1.36006624])"
      ]
     },
     "execution_count": 7,
     "metadata": {},
     "output_type": "execute_result"
    }
   ],
   "source": [
    "y[:,3]"
   ]
  },
  {
   "cell_type": "code",
   "execution_count": 8,
   "metadata": {},
   "outputs": [
    {
     "data": {
      "text/plain": [
       "array([[9.50625715, 7.57308226, 3.57940403, 0.93448001, 6.15933255,\n",
       "        1.62213481, 0.19718293, 0.80695441, 7.83624872],\n",
       "       [4.64212605, 7.88005348, 4.15284175, 7.81790706, 8.35332576,\n",
       "        2.69147047, 3.35093146, 8.64237364, 3.97086599],\n",
       "       [2.4508173 , 9.93483728, 8.95319567, 6.24509418, 7.83665252,\n",
       "        3.15099531, 8.7329068 , 2.28194481, 7.33065676],\n",
       "       [2.56613076, 5.41108238, 2.23740175, 0.22161886, 7.29327824,\n",
       "        5.32906233, 5.2695225 , 3.35549447, 9.60112716],\n",
       "       [6.80497933, 0.28160669, 9.23386459, 4.82654968, 2.22683171,\n",
       "        9.34753237, 2.9866639 , 7.1908386 , 3.06205385],\n",
       "       [6.93008502, 0.24697792, 3.41084945, 2.5487404 , 5.38811298,\n",
       "        8.00401381, 0.44097268, 7.56665753, 9.28823867],\n",
       "       [1.92066874, 6.07171901, 7.47853314, 8.14872161, 1.52664011,\n",
       "        5.17917064, 3.69768037, 2.37079082, 4.58934372],\n",
       "       [1.23848745, 0.90392375, 3.77817445, 5.32046511, 9.77891166,\n",
       "        8.16212386, 8.40030201, 8.23858845, 0.3768842 ],\n",
       "       [3.61647075, 8.91741754, 8.74771498, 4.20813215, 3.674732  ,\n",
       "        4.73124629, 8.90582245, 8.19648439, 0.33373372],\n",
       "       [6.55152469, 3.91364423, 9.97001031, 3.26508564, 4.82040385,\n",
       "        4.13473285, 4.79724336, 6.42321192, 2.7705277 ],\n",
       "       [4.3844539 , 7.77754255, 3.00057736, 1.36006624, 6.71420839,\n",
       "        1.74159042, 5.37580636, 1.64363069, 2.66851953]])"
      ]
     },
     "execution_count": 8,
     "metadata": {},
     "output_type": "execute_result"
    }
   ],
   "source": [
    "y"
   ]
  },
  {
   "cell_type": "code",
   "execution_count": 3,
   "metadata": {},
   "outputs": [
    {
     "data": {
      "text/plain": [
       "array([[<matplotlib.axes._subplots.AxesSubplot object at 0x0000012F624B5B80>,\n",
       "        <matplotlib.axes._subplots.AxesSubplot object at 0x0000012F65C72040>,\n",
       "        <matplotlib.axes._subplots.AxesSubplot object at 0x0000012F65CA5DC0>],\n",
       "       [<matplotlib.axes._subplots.AxesSubplot object at 0x0000012F65CD5C40>,\n",
       "        <matplotlib.axes._subplots.AxesSubplot object at 0x0000012F65D05AF0>,\n",
       "        <matplotlib.axes._subplots.AxesSubplot object at 0x0000012F623DF130>],\n",
       "       [<matplotlib.axes._subplots.AxesSubplot object at 0x0000012F65D33BE0>,\n",
       "        <matplotlib.axes._subplots.AxesSubplot object at 0x0000012F65D5EC70>,\n",
       "        <matplotlib.axes._subplots.AxesSubplot object at 0x0000012F65DBC850>]],\n",
       "      dtype=object)"
      ]
     },
     "execution_count": 3,
     "metadata": {},
     "output_type": "execute_result"
    }
   ],
   "source": [
    "axes"
   ]
  },
  {
   "cell_type": "code",
   "execution_count": null,
   "metadata": {},
   "outputs": [],
   "source": []
  }
 ],
 "metadata": {
  "kernelspec": {
   "display_name": "Python 3",
   "language": "python",
   "name": "python3"
  },
  "language_info": {
   "codemirror_mode": {
    "name": "ipython",
    "version": 3
   },
   "file_extension": ".py",
   "mimetype": "text/x-python",
   "name": "python",
   "nbconvert_exporter": "python",
   "pygments_lexer": "ipython3",
   "version": "3.8.3"
  }
 },
 "nbformat": 4,
 "nbformat_minor": 4
}
