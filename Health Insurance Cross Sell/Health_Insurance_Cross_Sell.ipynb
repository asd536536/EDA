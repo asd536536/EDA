{
 "cells": [
  {
   "cell_type": "markdown",
   "metadata": {},
   "source": [
    "# Health Insurance Cross Sell\n",
    "### EDA on Health Insurance Owners' who will be interested in Vehicle Insurance\n",
    "\n",
    "The data was obtained from [kaggle](https://www.kaggle.com/anmolkumar/health-insurance-cross-sell-prediction).\n",
    "\n",
    "In this study, Explatory Data Analysis (EDA) will be performed to find any pattern and create visualizations to display any important features.\n",
    "\n",
    "Here is context from the author:\n",
    "#### Context\n",
    "Our client is an Insurance company that has provided Health Insurance to its customers now they need your help in building a model to predict whether the policyholders (customers) from past year will also be interested in Vehicle Insurance provided by the company.\n",
    "\n",
    "An insurance policy is an arrangement by which a company undertakes to provide a guarantee of compensation for specified loss, damage, illness, or death in return for the payment of a specified premium. A premium is a sum of money that the customer needs to pay regularly to an insurance company for this guarantee.\n",
    "\n",
    "For example, you may pay a premium of Rs. 5000 each year for a health insurance cover of Rs. 200,000/- so that if, God forbid, you fall ill and need to be hospitalised in that year, the insurance provider company will bear the cost of hospitalisation etc. for upto Rs. 200,000. Now if you are wondering how can company bear such high hospitalisation cost when it charges a premium of only Rs. 5000/-, that is where the concept of probabilities comes in picture. For example, like you, there may be 100 customers who would be paying a premium of Rs. 5000 every year, but only a few of them (say 2-3) would get hospitalised that year and not everyone. This way everyone shares the risk of everyone else.\n",
    "\n",
    "Just like medical insurance, there is vehicle insurance where every year customer needs to pay a premium of certain amount to insurance provider company so that in case of unfortunate accident by the vehicle, the insurance provider company will provide a compensation (called ‘sum assured’) to the customer.\n",
    "\n",
    "Building a model to predict whether a customer would be interested in Vehicle Insurance is extremely helpful for the company because it can then accordingly plan its communication strategy to reach out to those customers and optimise its business model and revenue.\n",
    "\n",
    "Now, in order to predict, whether the customer would be interested in Vehicle insurance, you have information about demographics (gender, age, region code type), Vehicles (Vehicle Age, Damage), Policy (Premium, sourcing channel) etc.\n",
    "\n",
    "#### Data Desciption Table\n",
    "| Varaible | Definition|\n",
    "| --- | --- |\n",
    "| id | Unique ID for the customer |\n",
    "| Gender | Gender of the customer |\n",
    "| Age | Age of the customer |\n",
    "| Driving_License | 0 : Customer does not have DL, 1 : Customer already has DL |\n",
    "| Region_Code | Unique code for the region of the customer |\n",
    "| Previously_Insured | 1 : Customer already has Vehicle Insurance, 0 : Customer doesn't have Vehicle Insurance |\n",
    "| Vehicle_Age | Age of the Vehicle |\n",
    "| Vehicle_Damage | 1 : Customer got his/her vehicle damaged in the past. 0 : Customer didn't get his/her vehicle damaged in the past. |\n",
    "| Annual_Premium | The amount customer needs to pay as premium in the year |\n",
    "| PolicySalesChannel | Anonymized Code for the channel of outreaching to the customer ie. Different Agents, Over Mail, Over Phone, In Person, etc. |\n",
    "| Vintage | Number of Days, Customer has been associated with the company |\n",
    "| Response | 1 : Customer is interested, 0 : Customer is not interested |\n",
    "\n"
   ]
  },
  {
   "cell_type": "code",
   "execution_count": 1,
   "metadata": {},
   "outputs": [],
   "source": [
    "# Call in libraries\n",
    "import numpy as np\n",
    "import pandas as pd\n",
    "import seaborn as sns\n",
    "import matplotlib.pyplot as plt\n",
    "import missingno as msno\n",
    "from pandas.api.types import CategoricalDtype\n",
    "\n",
    "%matplotlib inline"
   ]
  },
  {
   "cell_type": "code",
   "execution_count": 2,
   "metadata": {},
   "outputs": [],
   "source": [
    "# Read the data\n",
    "df = pd.read_csv(\"train.csv\")"
   ]
  },
  {
   "cell_type": "code",
   "execution_count": 3,
   "metadata": {},
   "outputs": [
    {
     "data": {
      "text/html": [
       "<div>\n",
       "<style scoped>\n",
       "    .dataframe tbody tr th:only-of-type {\n",
       "        vertical-align: middle;\n",
       "    }\n",
       "\n",
       "    .dataframe tbody tr th {\n",
       "        vertical-align: top;\n",
       "    }\n",
       "\n",
       "    .dataframe thead th {\n",
       "        text-align: right;\n",
       "    }\n",
       "</style>\n",
       "<table border=\"1\" class=\"dataframe\">\n",
       "  <thead>\n",
       "    <tr style=\"text-align: right;\">\n",
       "      <th></th>\n",
       "      <th>id</th>\n",
       "      <th>Gender</th>\n",
       "      <th>Age</th>\n",
       "      <th>Driving_License</th>\n",
       "      <th>Region_Code</th>\n",
       "      <th>Previously_Insured</th>\n",
       "      <th>Vehicle_Age</th>\n",
       "      <th>Vehicle_Damage</th>\n",
       "      <th>Annual_Premium</th>\n",
       "      <th>Policy_Sales_Channel</th>\n",
       "      <th>Vintage</th>\n",
       "      <th>Response</th>\n",
       "    </tr>\n",
       "  </thead>\n",
       "  <tbody>\n",
       "    <tr>\n",
       "      <th>0</th>\n",
       "      <td>1</td>\n",
       "      <td>Male</td>\n",
       "      <td>44</td>\n",
       "      <td>1</td>\n",
       "      <td>28.0</td>\n",
       "      <td>0</td>\n",
       "      <td>&gt; 2 Years</td>\n",
       "      <td>Yes</td>\n",
       "      <td>40454.0</td>\n",
       "      <td>26.0</td>\n",
       "      <td>217</td>\n",
       "      <td>1</td>\n",
       "    </tr>\n",
       "    <tr>\n",
       "      <th>1</th>\n",
       "      <td>2</td>\n",
       "      <td>Male</td>\n",
       "      <td>76</td>\n",
       "      <td>1</td>\n",
       "      <td>3.0</td>\n",
       "      <td>0</td>\n",
       "      <td>1-2 Year</td>\n",
       "      <td>No</td>\n",
       "      <td>33536.0</td>\n",
       "      <td>26.0</td>\n",
       "      <td>183</td>\n",
       "      <td>0</td>\n",
       "    </tr>\n",
       "    <tr>\n",
       "      <th>2</th>\n",
       "      <td>3</td>\n",
       "      <td>Male</td>\n",
       "      <td>47</td>\n",
       "      <td>1</td>\n",
       "      <td>28.0</td>\n",
       "      <td>0</td>\n",
       "      <td>&gt; 2 Years</td>\n",
       "      <td>Yes</td>\n",
       "      <td>38294.0</td>\n",
       "      <td>26.0</td>\n",
       "      <td>27</td>\n",
       "      <td>1</td>\n",
       "    </tr>\n",
       "    <tr>\n",
       "      <th>3</th>\n",
       "      <td>4</td>\n",
       "      <td>Male</td>\n",
       "      <td>21</td>\n",
       "      <td>1</td>\n",
       "      <td>11.0</td>\n",
       "      <td>1</td>\n",
       "      <td>&lt; 1 Year</td>\n",
       "      <td>No</td>\n",
       "      <td>28619.0</td>\n",
       "      <td>152.0</td>\n",
       "      <td>203</td>\n",
       "      <td>0</td>\n",
       "    </tr>\n",
       "    <tr>\n",
       "      <th>4</th>\n",
       "      <td>5</td>\n",
       "      <td>Female</td>\n",
       "      <td>29</td>\n",
       "      <td>1</td>\n",
       "      <td>41.0</td>\n",
       "      <td>1</td>\n",
       "      <td>&lt; 1 Year</td>\n",
       "      <td>No</td>\n",
       "      <td>27496.0</td>\n",
       "      <td>152.0</td>\n",
       "      <td>39</td>\n",
       "      <td>0</td>\n",
       "    </tr>\n",
       "  </tbody>\n",
       "</table>\n",
       "</div>"
      ],
      "text/plain": [
       "   id  Gender  Age  Driving_License  Region_Code  Previously_Insured  \\\n",
       "0   1    Male   44                1         28.0                   0   \n",
       "1   2    Male   76                1          3.0                   0   \n",
       "2   3    Male   47                1         28.0                   0   \n",
       "3   4    Male   21                1         11.0                   1   \n",
       "4   5  Female   29                1         41.0                   1   \n",
       "\n",
       "  Vehicle_Age Vehicle_Damage  Annual_Premium  Policy_Sales_Channel  Vintage  \\\n",
       "0   > 2 Years            Yes         40454.0                  26.0      217   \n",
       "1    1-2 Year             No         33536.0                  26.0      183   \n",
       "2   > 2 Years            Yes         38294.0                  26.0       27   \n",
       "3    < 1 Year             No         28619.0                 152.0      203   \n",
       "4    < 1 Year             No         27496.0                 152.0       39   \n",
       "\n",
       "   Response  \n",
       "0         1  \n",
       "1         0  \n",
       "2         1  \n",
       "3         0  \n",
       "4         0  "
      ]
     },
     "metadata": {},
     "output_type": "display_data"
    },
    {
     "data": {
      "text/plain": [
       "(381109, 12)"
      ]
     },
     "metadata": {},
     "output_type": "display_data"
    }
   ],
   "source": [
    "# See the dataframe\n",
    "display(df.head())\n",
    "display(df.shape)"
   ]
  },
  {
   "cell_type": "markdown",
   "metadata": {},
   "source": [
    "- There are total of 12 columns with 381109 rows in each column. Thus, there are 381109 people who are enrolled in the health insurance. \n",
    "- The currency in this dataset is in rupees (india).\n",
    "- Vehicle_Age column has three types: < 1 Year (less than a year), 1-2 Year, and > 2 Years (greater than 2 years)"
   ]
  },
  {
   "cell_type": "code",
   "execution_count": 4,
   "metadata": {},
   "outputs": [
    {
     "data": {
      "text/plain": [
       "id                      0\n",
       "Gender                  0\n",
       "Age                     0\n",
       "Driving_License         0\n",
       "Region_Code             0\n",
       "Previously_Insured      0\n",
       "Vehicle_Age             0\n",
       "Vehicle_Damage          0\n",
       "Annual_Premium          0\n",
       "Policy_Sales_Channel    0\n",
       "Vintage                 0\n",
       "Response                0\n",
       "dtype: int64"
      ]
     },
     "metadata": {},
     "output_type": "display_data"
    }
   ],
   "source": [
    "# Find missing data\n",
    "display(df.isna().sum())"
   ]
  },
  {
   "cell_type": "markdown",
   "metadata": {},
   "source": [
    "There is no missing data in this dataset."
   ]
  },
  {
   "cell_type": "code",
   "execution_count": 5,
   "metadata": {},
   "outputs": [
    {
     "data": {
      "image/png": "[encoded data removed]",
      "text/plain": [
       "<Figure size 432x288 with 1 Axes>"
      ]
     },
     "metadata": {
      "needs_background": "light"
     },
     "output_type": "display_data"
    }
   ],
   "source": [
    "plt.figure()\n",
    "ax = df[\"Gender\"].value_counts().plot.bar()\n",
    "ax.set_title(\"Gender Count\", pad=20)\n",
    "ax.set_xlabel(\"Sex\")\n",
    "ax.set_ylabel(\"Count\")\n",
    "ax.set_frame_on(False)\n",
    "ax.autoscale(False)\n",
    "plt.xticks(rotation=0)\n",
    "\n",
    "\n",
    "def add_value_labels(ax, spacing=8):\n",
    "    \"\"\"Add labels to the end of each bar in a bar chart.\n",
    "\n",
    "    Arguments:\n",
    "        ax (matplotlib.axes.Axes): The matplotlib object containing the axes\n",
    "            of the plot to annotate.\n",
    "        spacing (int): The distance between the labels and the bars.\n",
    "    \"\"\"\n",
    "\n",
    "    # For each bar: Place a label\n",
    "    for rect in ax.patches:\n",
    "        # Get X and Y placement of label from rect.\n",
    "        y_value = rect.get_height()\n",
    "        x_value = rect.get_x() + rect.get_width() / 2\n",
    "\n",
    "        # Number of points between bar and label. Change to your liking.\n",
    "        space = spacing\n",
    "        # Vertical alignment for positive values\n",
    "        va = 'bottom'\n",
    "\n",
    "        # If value of bar is negative: Place label below bar\n",
    "        if y_value < 0:\n",
    "            # Invert space to place label below\n",
    "            space *= -1\n",
    "            # Vertically align label at top\n",
    "            va = 'top'\n",
    "\n",
    "        # Use Y value as label and format number with one decimal place\n",
    "        label = \"{:.1f}\".format(y_value)\n",
    "\n",
    "        # Create annotation\n",
    "        ax.annotate(\n",
    "            label,                      # Use `label` as label\n",
    "            (x_value, y_value),         # Place label at end of the bar\n",
    "            xytext=(0, space),          # Vertically shift label by `space`\n",
    "            textcoords=\"offset points\", # Interpret `xytext` as offset in points\n",
    "            ha='center',                # Horizontally center label\n",
    "            va=va)                      # Vertically align label differently for\n",
    "                                        # positive and negative values.\n",
    "\n",
    "\n",
    "# Call the function above. All the magic happens there.\n",
    "add_value_labels(ax)"
   ]
  },
  {
   "cell_type": "code",
   "execution_count": 6,
   "metadata": {},
   "outputs": [
    {
     "data": {
      "text/plain": [
       "Male      0.540761\n",
       "Female    0.459239\n",
       "Name: Gender, dtype: float64"
      ]
     },
     "execution_count": 6,
     "metadata": {},
     "output_type": "execute_result"
    }
   ],
   "source": [
    "df[\"Gender\"].value_counts(normalize=True)"
   ]
  },
  {
   "cell_type": "markdown",
   "metadata": {},
   "source": [
    "The data consists of 54% of Male and 46% of Female. Let's now take a look at age distribution.  \n",
    "\n",
    "We will categorize the ages in group.  \n",
    "To start, we will find the minimum and maximum age first"
   ]
  },
  {
   "cell_type": "code",
   "execution_count": 7,
   "metadata": {},
   "outputs": [
    {
     "data": {
      "text/plain": [
       "'The minimum age is 20'"
      ]
     },
     "metadata": {},
     "output_type": "display_data"
    },
    {
     "data": {
      "text/plain": [
       "'The maximum age is 85'"
      ]
     },
     "metadata": {},
     "output_type": "display_data"
    }
   ],
   "source": [
    "display(\"The minimum age is \" + str(df.Age.min()))\n",
    "display(\"The maximum age is \" + str(df.Age.max()))"
   ]
  },
  {
   "cell_type": "code",
   "execution_count": 8,
   "metadata": {},
   "outputs": [],
   "source": [
    "#df['AgeGroup']\n",
    "df.loc[df[\"Age\"].between(20,29),\"AgeGroup\"] = \"20's\"\n",
    "df.loc[df[\"Age\"].between(30,39),\"AgeGroup\"] = \"30's\"\n",
    "df.loc[df[\"Age\"].between(40,49),\"AgeGroup\"] = \"40's\"\n",
    "df.loc[df[\"Age\"].between(50,59),\"AgeGroup\"] = \"50's\"\n",
    "df.loc[df[\"Age\"].between(60,69),\"AgeGroup\"] = \"60's\"\n",
    "df.loc[df[\"Age\"].between(70,79),\"AgeGroup\"] = \"70's\"\n",
    "df.loc[df[\"Age\"].between(80,89),\"AgeGroup\"] = \"80's\""
   ]
  },
  {
   "cell_type": "code",
   "execution_count": 9,
   "metadata": {},
   "outputs": [],
   "source": [
    "# Change datatype to category\n",
    "df[\"AgeGroup\"] = pd.Categorical(df[\"AgeGroup\"], ordered=True, categories=[\"20's\",\"30's\",\"40's\",\"50's\",\"60's\",\"70's\",\"80's\"])\n",
    "df[\"Vehicle_Age\"] = pd.Categorical(df[\"Vehicle_Age\"], ordered=True, categories=[\"< 1 Year\", \"1-2 Year\", \"> 2 Years\"])"
   ]
  },
  {
   "cell_type": "code",
   "execution_count": 10,
   "metadata": {},
   "outputs": [],
   "source": [
    "df[\"allOne\"] = 1"
   ]
  },
  {
   "cell_type": "code",
   "execution_count": 11,
   "metadata": {},
   "outputs": [
    {
     "data": {
      "text/html": [
       "<div>\n",
       "<style scoped>\n",
       "    .dataframe tbody tr th:only-of-type {\n",
       "        vertical-align: middle;\n",
       "    }\n",
       "\n",
       "    .dataframe tbody tr th {\n",
       "        vertical-align: top;\n",
       "    }\n",
       "\n",
       "    .dataframe thead th {\n",
       "        text-align: right;\n",
       "    }\n",
       "</style>\n",
       "<table border=\"1\" class=\"dataframe\">\n",
       "  <thead>\n",
       "    <tr style=\"text-align: right;\">\n",
       "      <th></th>\n",
       "      <th></th>\n",
       "      <th>AgeGroup</th>\n",
       "      <th>20's</th>\n",
       "      <th>30's</th>\n",
       "      <th>40's</th>\n",
       "      <th>50's</th>\n",
       "      <th>60's</th>\n",
       "      <th>70's</th>\n",
       "      <th>80's</th>\n",
       "    </tr>\n",
       "    <tr>\n",
       "      <th>Gender</th>\n",
       "      <th>Vehicle_Age</th>\n",
       "      <th>Response</th>\n",
       "      <th></th>\n",
       "      <th></th>\n",
       "      <th></th>\n",
       "      <th></th>\n",
       "      <th></th>\n",
       "      <th></th>\n",
       "      <th></th>\n",
       "    </tr>\n",
       "  </thead>\n",
       "  <tbody>\n",
       "    <tr>\n",
       "      <th rowspan=\"6\" valign=\"top\">Female</th>\n",
       "      <th rowspan=\"2\" valign=\"top\">&lt; 1 Year</th>\n",
       "      <th>0</th>\n",
       "      <td>81100.0</td>\n",
       "      <td>6730.0</td>\n",
       "      <td>100.0</td>\n",
       "      <td>67.0</td>\n",
       "      <td>35.0</td>\n",
       "      <td>9.0</td>\n",
       "      <td>1.0</td>\n",
       "    </tr>\n",
       "    <tr>\n",
       "      <th>1</th>\n",
       "      <td>2368.0</td>\n",
       "      <td>865.0</td>\n",
       "      <td>28.0</td>\n",
       "      <td>15.0</td>\n",
       "      <td>2.0</td>\n",
       "      <td>1.0</td>\n",
       "      <td>NaN</td>\n",
       "    </tr>\n",
       "    <tr>\n",
       "      <th rowspan=\"2\" valign=\"top\">1-2 Year</th>\n",
       "      <th>0</th>\n",
       "      <td>2082.0</td>\n",
       "      <td>12951.0</td>\n",
       "      <td>22276.0</td>\n",
       "      <td>12283.0</td>\n",
       "      <td>8772.0</td>\n",
       "      <td>5835.0</td>\n",
       "      <td>410.0</td>\n",
       "    </tr>\n",
       "    <tr>\n",
       "      <th>1</th>\n",
       "      <td>527.0</td>\n",
       "      <td>3741.0</td>\n",
       "      <td>5563.0</td>\n",
       "      <td>2215.0</td>\n",
       "      <td>904.0</td>\n",
       "      <td>405.0</td>\n",
       "      <td>28.0</td>\n",
       "    </tr>\n",
       "    <tr>\n",
       "      <th rowspan=\"2\" valign=\"top\">&gt; 2 Years</th>\n",
       "      <th>0</th>\n",
       "      <td>20.0</td>\n",
       "      <td>273.0</td>\n",
       "      <td>1104.0</td>\n",
       "      <td>1091.0</td>\n",
       "      <td>959.0</td>\n",
       "      <td>691.0</td>\n",
       "      <td>46.0</td>\n",
       "    </tr>\n",
       "    <tr>\n",
       "      <th>1</th>\n",
       "      <td>1.0</td>\n",
       "      <td>116.0</td>\n",
       "      <td>627.0</td>\n",
       "      <td>421.0</td>\n",
       "      <td>234.0</td>\n",
       "      <td>117.0</td>\n",
       "      <td>7.0</td>\n",
       "    </tr>\n",
       "    <tr>\n",
       "      <th rowspan=\"6\" valign=\"top\">Male</th>\n",
       "      <th rowspan=\"2\" valign=\"top\">&lt; 1 Year</th>\n",
       "      <th>0</th>\n",
       "      <td>62673.0</td>\n",
       "      <td>6542.0</td>\n",
       "      <td>177.0</td>\n",
       "      <td>97.0</td>\n",
       "      <td>42.0</td>\n",
       "      <td>10.0</td>\n",
       "      <td>1.0</td>\n",
       "    </tr>\n",
       "    <tr>\n",
       "      <th>1</th>\n",
       "      <td>2761.0</td>\n",
       "      <td>1091.0</td>\n",
       "      <td>33.0</td>\n",
       "      <td>32.0</td>\n",
       "      <td>4.0</td>\n",
       "      <td>2.0</td>\n",
       "      <td>NaN</td>\n",
       "    </tr>\n",
       "    <tr>\n",
       "      <th rowspan=\"2\" valign=\"top\">1-2 Year</th>\n",
       "      <th>0</th>\n",
       "      <td>2928.0</td>\n",
       "      <td>16518.0</td>\n",
       "      <td>35010.0</td>\n",
       "      <td>23779.0</td>\n",
       "      <td>14198.0</td>\n",
       "      <td>8001.0</td>\n",
       "      <td>467.0</td>\n",
       "    </tr>\n",
       "    <tr>\n",
       "      <th>1</th>\n",
       "      <td>708.0</td>\n",
       "      <td>4877.0</td>\n",
       "      <td>9010.0</td>\n",
       "      <td>4704.0</td>\n",
       "      <td>1579.0</td>\n",
       "      <td>526.0</td>\n",
       "      <td>19.0</td>\n",
       "    </tr>\n",
       "    <tr>\n",
       "      <th rowspan=\"2\" valign=\"top\">&gt; 2 Years</th>\n",
       "      <th>0</th>\n",
       "      <td>26.0</td>\n",
       "      <td>383.0</td>\n",
       "      <td>1860.0</td>\n",
       "      <td>2220.0</td>\n",
       "      <td>1692.0</td>\n",
       "      <td>892.0</td>\n",
       "      <td>48.0</td>\n",
       "    </tr>\n",
       "    <tr>\n",
       "      <th>1</th>\n",
       "      <td>9.0</td>\n",
       "      <td>166.0</td>\n",
       "      <td>1058.0</td>\n",
       "      <td>1110.0</td>\n",
       "      <td>602.0</td>\n",
       "      <td>223.0</td>\n",
       "      <td>11.0</td>\n",
       "    </tr>\n",
       "  </tbody>\n",
       "</table>\n",
       "</div>"
      ],
      "text/plain": [
       "AgeGroup                        20's     30's     40's     50's     60's  \\\n",
       "Gender Vehicle_Age Response                                                \n",
       "Female < 1 Year    0         81100.0   6730.0    100.0     67.0     35.0   \n",
       "                   1          2368.0    865.0     28.0     15.0      2.0   \n",
       "       1-2 Year    0          2082.0  12951.0  22276.0  12283.0   8772.0   \n",
       "                   1           527.0   3741.0   5563.0   2215.0    904.0   \n",
       "       > 2 Years   0            20.0    273.0   1104.0   1091.0    959.0   \n",
       "                   1             1.0    116.0    627.0    421.0    234.0   \n",
       "Male   < 1 Year    0         62673.0   6542.0    177.0     97.0     42.0   \n",
       "                   1          2761.0   1091.0     33.0     32.0      4.0   \n",
       "       1-2 Year    0          2928.0  16518.0  35010.0  23779.0  14198.0   \n",
       "                   1           708.0   4877.0   9010.0   4704.0   1579.0   \n",
       "       > 2 Years   0            26.0    383.0   1860.0   2220.0   1692.0   \n",
       "                   1             9.0    166.0   1058.0   1110.0    602.0   \n",
       "\n",
       "AgeGroup                       70's   80's  \n",
       "Gender Vehicle_Age Response                 \n",
       "Female < 1 Year    0            9.0    1.0  \n",
       "                   1            1.0    NaN  \n",
       "       1-2 Year    0         5835.0  410.0  \n",
       "                   1          405.0   28.0  \n",
       "       > 2 Years   0          691.0   46.0  \n",
       "                   1          117.0    7.0  \n",
       "Male   < 1 Year    0           10.0    1.0  \n",
       "                   1            2.0    NaN  \n",
       "       1-2 Year    0         8001.0  467.0  \n",
       "                   1          526.0   19.0  \n",
       "       > 2 Years   0          892.0   48.0  \n",
       "                   1          223.0   11.0  "
      ]
     },
     "execution_count": 11,
     "metadata": {},
     "output_type": "execute_result"
    }
   ],
   "source": [
    "pd.pivot_table(df, values = \"allOne\", index=[\"Gender\",\"Vehicle_Age\",\"Response\"], columns=[\"AgeGroup\"], aggfunc=np.sum)"
   ]
  },
  {
   "cell_type": "markdown",
   "metadata": {},
   "source": [
    "Both in male and female show that in 20's has the highest number of customers with health insurance and as well as highest number of not intersted with vehicle insurance.  \n",
    "Then one might can ask, \"Maybe it's because they already have one?\" We will use the \"Response\" feature to determind whether the mentioned statement is true."
   ]
  },
  {
   "cell_type": "code",
   "execution_count": 12,
   "metadata": {},
   "outputs": [
    {
     "data": {
      "text/html": [
       "<div>\n",
       "<style scoped>\n",
       "    .dataframe tbody tr th:only-of-type {\n",
       "        vertical-align: middle;\n",
       "    }\n",
       "\n",
       "    .dataframe tbody tr th {\n",
       "        vertical-align: top;\n",
       "    }\n",
       "\n",
       "    .dataframe thead th {\n",
       "        text-align: right;\n",
       "    }\n",
       "</style>\n",
       "<table border=\"1\" class=\"dataframe\">\n",
       "  <thead>\n",
       "    <tr style=\"text-align: right;\">\n",
       "      <th></th>\n",
       "      <th></th>\n",
       "      <th>AgeGroup</th>\n",
       "      <th>20's</th>\n",
       "      <th>30's</th>\n",
       "      <th>40's</th>\n",
       "      <th>50's</th>\n",
       "      <th>60's</th>\n",
       "      <th>70's</th>\n",
       "      <th>80's</th>\n",
       "    </tr>\n",
       "    <tr>\n",
       "      <th>Gender</th>\n",
       "      <th>Vehicle_Age</th>\n",
       "      <th>Response</th>\n",
       "      <th></th>\n",
       "      <th></th>\n",
       "      <th></th>\n",
       "      <th></th>\n",
       "      <th></th>\n",
       "      <th></th>\n",
       "      <th></th>\n",
       "    </tr>\n",
       "  </thead>\n",
       "  <tbody>\n",
       "    <tr>\n",
       "      <th rowspan=\"6\" valign=\"top\">Female</th>\n",
       "      <th rowspan=\"2\" valign=\"top\">&lt; 1 Year</th>\n",
       "      <th>0</th>\n",
       "      <td>57209.0</td>\n",
       "      <td>4499.0</td>\n",
       "      <td>22.0</td>\n",
       "      <td>5.0</td>\n",
       "      <td>7.0</td>\n",
       "      <td>1.0</td>\n",
       "      <td>1.0</td>\n",
       "    </tr>\n",
       "    <tr>\n",
       "      <th>1</th>\n",
       "      <td>23.0</td>\n",
       "      <td>1.0</td>\n",
       "      <td>0.0</td>\n",
       "      <td>0.0</td>\n",
       "      <td>0.0</td>\n",
       "      <td>0.0</td>\n",
       "      <td>NaN</td>\n",
       "    </tr>\n",
       "    <tr>\n",
       "      <th rowspan=\"2\" valign=\"top\">1-2 Year</th>\n",
       "      <th>0</th>\n",
       "      <td>562.0</td>\n",
       "      <td>5316.0</td>\n",
       "      <td>8422.0</td>\n",
       "      <td>5033.0</td>\n",
       "      <td>3937.0</td>\n",
       "      <td>2645.0</td>\n",
       "      <td>206.0</td>\n",
       "    </tr>\n",
       "    <tr>\n",
       "      <th>1</th>\n",
       "      <td>3.0</td>\n",
       "      <td>17.0</td>\n",
       "      <td>10.0</td>\n",
       "      <td>3.0</td>\n",
       "      <td>3.0</td>\n",
       "      <td>2.0</td>\n",
       "      <td>0.0</td>\n",
       "    </tr>\n",
       "    <tr>\n",
       "      <th rowspan=\"2\" valign=\"top\">&gt; 2 Years</th>\n",
       "      <th>0</th>\n",
       "      <td>0.0</td>\n",
       "      <td>2.0</td>\n",
       "      <td>6.0</td>\n",
       "      <td>9.0</td>\n",
       "      <td>4.0</td>\n",
       "      <td>1.0</td>\n",
       "      <td>0.0</td>\n",
       "    </tr>\n",
       "    <tr>\n",
       "      <th>1</th>\n",
       "      <td>0.0</td>\n",
       "      <td>0.0</td>\n",
       "      <td>0.0</td>\n",
       "      <td>0.0</td>\n",
       "      <td>0.0</td>\n",
       "      <td>0.0</td>\n",
       "      <td>0.0</td>\n",
       "    </tr>\n",
       "    <tr>\n",
       "      <th rowspan=\"6\" valign=\"top\">Male</th>\n",
       "      <th rowspan=\"2\" valign=\"top\">&lt; 1 Year</th>\n",
       "      <th>0</th>\n",
       "      <td>43301.0</td>\n",
       "      <td>4123.0</td>\n",
       "      <td>17.0</td>\n",
       "      <td>8.0</td>\n",
       "      <td>2.0</td>\n",
       "      <td>0.0</td>\n",
       "      <td>0.0</td>\n",
       "    </tr>\n",
       "    <tr>\n",
       "      <th>1</th>\n",
       "      <td>31.0</td>\n",
       "      <td>7.0</td>\n",
       "      <td>0.0</td>\n",
       "      <td>0.0</td>\n",
       "      <td>0.0</td>\n",
       "      <td>0.0</td>\n",
       "      <td>NaN</td>\n",
       "    </tr>\n",
       "    <tr>\n",
       "      <th rowspan=\"2\" valign=\"top\">1-2 Year</th>\n",
       "      <th>0</th>\n",
       "      <td>947.0</td>\n",
       "      <td>6392.0</td>\n",
       "      <td>12444.0</td>\n",
       "      <td>9025.0</td>\n",
       "      <td>6263.0</td>\n",
       "      <td>3795.0</td>\n",
       "      <td>243.0</td>\n",
       "    </tr>\n",
       "    <tr>\n",
       "      <th>1</th>\n",
       "      <td>3.0</td>\n",
       "      <td>18.0</td>\n",
       "      <td>29.0</td>\n",
       "      <td>3.0</td>\n",
       "      <td>4.0</td>\n",
       "      <td>0.0</td>\n",
       "      <td>0.0</td>\n",
       "    </tr>\n",
       "    <tr>\n",
       "      <th rowspan=\"2\" valign=\"top\">&gt; 2 Years</th>\n",
       "      <th>0</th>\n",
       "      <td>0.0</td>\n",
       "      <td>3.0</td>\n",
       "      <td>8.0</td>\n",
       "      <td>5.0</td>\n",
       "      <td>4.0</td>\n",
       "      <td>3.0</td>\n",
       "      <td>0.0</td>\n",
       "    </tr>\n",
       "    <tr>\n",
       "      <th>1</th>\n",
       "      <td>0.0</td>\n",
       "      <td>0.0</td>\n",
       "      <td>1.0</td>\n",
       "      <td>0.0</td>\n",
       "      <td>0.0</td>\n",
       "      <td>0.0</td>\n",
       "      <td>0.0</td>\n",
       "    </tr>\n",
       "  </tbody>\n",
       "</table>\n",
       "</div>"
      ],
      "text/plain": [
       "AgeGroup                        20's    30's     40's    50's    60's    70's  \\\n",
       "Gender Vehicle_Age Response                                                     \n",
       "Female < 1 Year    0         57209.0  4499.0     22.0     5.0     7.0     1.0   \n",
       "                   1            23.0     1.0      0.0     0.0     0.0     0.0   \n",
       "       1-2 Year    0           562.0  5316.0   8422.0  5033.0  3937.0  2645.0   \n",
       "                   1             3.0    17.0     10.0     3.0     3.0     2.0   \n",
       "       > 2 Years   0             0.0     2.0      6.0     9.0     4.0     1.0   \n",
       "                   1             0.0     0.0      0.0     0.0     0.0     0.0   \n",
       "Male   < 1 Year    0         43301.0  4123.0     17.0     8.0     2.0     0.0   \n",
       "                   1            31.0     7.0      0.0     0.0     0.0     0.0   \n",
       "       1-2 Year    0           947.0  6392.0  12444.0  9025.0  6263.0  3795.0   \n",
       "                   1             3.0    18.0     29.0     3.0     4.0     0.0   \n",
       "       > 2 Years   0             0.0     3.0      8.0     5.0     4.0     3.0   \n",
       "                   1             0.0     0.0      1.0     0.0     0.0     0.0   \n",
       "\n",
       "AgeGroup                      80's  \n",
       "Gender Vehicle_Age Response         \n",
       "Female < 1 Year    0           1.0  \n",
       "                   1           NaN  \n",
       "       1-2 Year    0         206.0  \n",
       "                   1           0.0  \n",
       "       > 2 Years   0           0.0  \n",
       "                   1           0.0  \n",
       "Male   < 1 Year    0           0.0  \n",
       "                   1           NaN  \n",
       "       1-2 Year    0         243.0  \n",
       "                   1           0.0  \n",
       "       > 2 Years   0           0.0  \n",
       "                   1           0.0  "
      ]
     },
     "execution_count": 12,
     "metadata": {},
     "output_type": "execute_result"
    }
   ],
   "source": [
    "pd.pivot_table(df, values = \"Previously_Insured\", index=[\"Gender\",\"Vehicle_Age\",\"Response\"], columns=[\"AgeGroup\"], aggfunc=np.sum)"
   ]
  },
  {
   "cell_type": "markdown",
   "metadata": {},
   "source": [
    "It looks like when the profile was created for each customer, it was not mandatory for the customer to fill out whether they have the vehicle insurance or not.   \n",
    "The numbers do not sum up to 83468 compared to 57209 for female in 20's.   \n",
    "However, we can still find that the reason the customers were not interested in vehicle insurance because they already have one can come off from our list.  \n",
    "Female customers were still not interested whether they had the vehicle insurance previously or not. This finding also applies to the male customers."
   ]
  },
  {
   "cell_type": "code",
   "execution_count": 13,
   "metadata": {},
   "outputs": [
    {
     "data": {
      "text/html": [
       "<div>\n",
       "<style scoped>\n",
       "    .dataframe tbody tr th:only-of-type {\n",
       "        vertical-align: middle;\n",
       "    }\n",
       "\n",
       "    .dataframe tbody tr th {\n",
       "        vertical-align: top;\n",
       "    }\n",
       "\n",
       "    .dataframe thead th {\n",
       "        text-align: right;\n",
       "    }\n",
       "</style>\n",
       "<table border=\"1\" class=\"dataframe\">\n",
       "  <thead>\n",
       "    <tr style=\"text-align: right;\">\n",
       "      <th></th>\n",
       "      <th></th>\n",
       "      <th>AgeGroup</th>\n",
       "      <th>20's</th>\n",
       "      <th>30's</th>\n",
       "      <th>40's</th>\n",
       "      <th>50's</th>\n",
       "      <th>60's</th>\n",
       "      <th>70's</th>\n",
       "      <th>80's</th>\n",
       "    </tr>\n",
       "    <tr>\n",
       "      <th>Gender</th>\n",
       "      <th>Vehicle_Age</th>\n",
       "      <th>Response</th>\n",
       "      <th></th>\n",
       "      <th></th>\n",
       "      <th></th>\n",
       "      <th></th>\n",
       "      <th></th>\n",
       "      <th></th>\n",
       "      <th></th>\n",
       "    </tr>\n",
       "  </thead>\n",
       "  <tbody>\n",
       "    <tr>\n",
       "      <th rowspan=\"6\" valign=\"top\">Female</th>\n",
       "      <th rowspan=\"2\" valign=\"top\">&lt; 1 Year</th>\n",
       "      <th>0</th>\n",
       "      <td>155.0</td>\n",
       "      <td>155.3</td>\n",
       "      <td>155.2</td>\n",
       "      <td>145.8</td>\n",
       "      <td>132.2</td>\n",
       "      <td>192.3</td>\n",
       "      <td>181.0</td>\n",
       "    </tr>\n",
       "    <tr>\n",
       "      <th>1</th>\n",
       "      <td>156.3</td>\n",
       "      <td>149.6</td>\n",
       "      <td>162.0</td>\n",
       "      <td>156.7</td>\n",
       "      <td>126.0</td>\n",
       "      <td>41.0</td>\n",
       "      <td>NaN</td>\n",
       "    </tr>\n",
       "    <tr>\n",
       "      <th rowspan=\"2\" valign=\"top\">1-2 Year</th>\n",
       "      <th>0</th>\n",
       "      <td>153.7</td>\n",
       "      <td>153.9</td>\n",
       "      <td>153.7</td>\n",
       "      <td>154.4</td>\n",
       "      <td>155.1</td>\n",
       "      <td>154.9</td>\n",
       "      <td>155.8</td>\n",
       "    </tr>\n",
       "    <tr>\n",
       "      <th>1</th>\n",
       "      <td>149.5</td>\n",
       "      <td>154.5</td>\n",
       "      <td>153.8</td>\n",
       "      <td>152.7</td>\n",
       "      <td>152.1</td>\n",
       "      <td>144.6</td>\n",
       "      <td>159.4</td>\n",
       "    </tr>\n",
       "    <tr>\n",
       "      <th rowspan=\"2\" valign=\"top\">&gt; 2 Years</th>\n",
       "      <th>0</th>\n",
       "      <td>163.4</td>\n",
       "      <td>157.9</td>\n",
       "      <td>153.4</td>\n",
       "      <td>152.9</td>\n",
       "      <td>157.8</td>\n",
       "      <td>152.3</td>\n",
       "      <td>131.6</td>\n",
       "    </tr>\n",
       "    <tr>\n",
       "      <th>1</th>\n",
       "      <td>24.0</td>\n",
       "      <td>161.0</td>\n",
       "      <td>155.7</td>\n",
       "      <td>160.9</td>\n",
       "      <td>155.0</td>\n",
       "      <td>151.9</td>\n",
       "      <td>131.6</td>\n",
       "    </tr>\n",
       "    <tr>\n",
       "      <th rowspan=\"6\" valign=\"top\">Male</th>\n",
       "      <th rowspan=\"2\" valign=\"top\">&lt; 1 Year</th>\n",
       "      <th>0</th>\n",
       "      <td>154.1</td>\n",
       "      <td>154.5</td>\n",
       "      <td>150.4</td>\n",
       "      <td>158.2</td>\n",
       "      <td>150.0</td>\n",
       "      <td>125.7</td>\n",
       "      <td>144.0</td>\n",
       "    </tr>\n",
       "    <tr>\n",
       "      <th>1</th>\n",
       "      <td>151.6</td>\n",
       "      <td>151.9</td>\n",
       "      <td>150.9</td>\n",
       "      <td>161.8</td>\n",
       "      <td>209.5</td>\n",
       "      <td>152.5</td>\n",
       "      <td>NaN</td>\n",
       "    </tr>\n",
       "    <tr>\n",
       "      <th rowspan=\"2\" valign=\"top\">1-2 Year</th>\n",
       "      <th>0</th>\n",
       "      <td>153.5</td>\n",
       "      <td>153.7</td>\n",
       "      <td>153.8</td>\n",
       "      <td>154.0</td>\n",
       "      <td>155.2</td>\n",
       "      <td>154.3</td>\n",
       "      <td>155.0</td>\n",
       "    </tr>\n",
       "    <tr>\n",
       "      <th>1</th>\n",
       "      <td>156.8</td>\n",
       "      <td>155.8</td>\n",
       "      <td>154.1</td>\n",
       "      <td>156.2</td>\n",
       "      <td>152.8</td>\n",
       "      <td>146.6</td>\n",
       "      <td>148.9</td>\n",
       "    </tr>\n",
       "    <tr>\n",
       "      <th rowspan=\"2\" valign=\"top\">&gt; 2 Years</th>\n",
       "      <th>0</th>\n",
       "      <td>151.7</td>\n",
       "      <td>143.0</td>\n",
       "      <td>155.2</td>\n",
       "      <td>154.0</td>\n",
       "      <td>157.0</td>\n",
       "      <td>153.7</td>\n",
       "      <td>147.0</td>\n",
       "    </tr>\n",
       "    <tr>\n",
       "      <th>1</th>\n",
       "      <td>191.9</td>\n",
       "      <td>150.5</td>\n",
       "      <td>158.2</td>\n",
       "      <td>154.3</td>\n",
       "      <td>150.9</td>\n",
       "      <td>148.5</td>\n",
       "      <td>169.3</td>\n",
       "    </tr>\n",
       "  </tbody>\n",
       "</table>\n",
       "</div>"
      ],
      "text/plain": [
       "AgeGroup                      20's   30's   40's   50's   60's   70's   80's\n",
       "Gender Vehicle_Age Response                                                 \n",
       "Female < 1 Year    0         155.0  155.3  155.2  145.8  132.2  192.3  181.0\n",
       "                   1         156.3  149.6  162.0  156.7  126.0   41.0    NaN\n",
       "       1-2 Year    0         153.7  153.9  153.7  154.4  155.1  154.9  155.8\n",
       "                   1         149.5  154.5  153.8  152.7  152.1  144.6  159.4\n",
       "       > 2 Years   0         163.4  157.9  153.4  152.9  157.8  152.3  131.6\n",
       "                   1          24.0  161.0  155.7  160.9  155.0  151.9  131.6\n",
       "Male   < 1 Year    0         154.1  154.5  150.4  158.2  150.0  125.7  144.0\n",
       "                   1         151.6  151.9  150.9  161.8  209.5  152.5    NaN\n",
       "       1-2 Year    0         153.5  153.7  153.8  154.0  155.2  154.3  155.0\n",
       "                   1         156.8  155.8  154.1  156.2  152.8  146.6  148.9\n",
       "       > 2 Years   0         151.7  143.0  155.2  154.0  157.0  153.7  147.0\n",
       "                   1         191.9  150.5  158.2  154.3  150.9  148.5  169.3"
      ]
     },
     "execution_count": 13,
     "metadata": {},
     "output_type": "execute_result"
    }
   ],
   "source": [
    "np.round(pd.pivot_table(df, values = \"Vintage\", index=[\"Gender\",\"Vehicle_Age\",\"Response\"], columns=[\"AgeGroup\"], aggfunc=np.mean),1)"
   ]
  },
  {
   "cell_type": "markdown",
   "metadata": {},
   "source": [
    "The above pivot table shows the average days the customers have been with the company.  \n",
    "The average days for the customers with the company are around 150 days.  \n",
    "Many customers became interested with vehicle insurnace around 150 days as well.  \n",
    "Did this company recently open? Also/ or, was there a promotion in the fifth month of the enrollement?"
   ]
  },
  {
   "cell_type": "code",
   "execution_count": 14,
   "metadata": {},
   "outputs": [
    {
     "data": {
      "text/plain": [
       "\"The minimum day for female customers in 20's with this company is 10\""
      ]
     },
     "metadata": {},
     "output_type": "display_data"
    },
    {
     "data": {
      "text/plain": [
       "\"The maximum day for female customers in 20's with this company is 299\""
      ]
     },
     "metadata": {},
     "output_type": "display_data"
    },
    {
     "name": "stdout",
     "output_type": "stream",
     "text": [
      "\n"
     ]
    },
    {
     "data": {
      "text/plain": [
       "<matplotlib.axes._subplots.AxesSubplot at 0x1fb80fda460>"
      ]
     },
     "metadata": {},
     "output_type": "display_data"
    },
    {
     "data": {
      "image/png": "[encoded data removed]",
      "text/plain": [
       "<Figure size 432x288 with 1 Axes>"
      ]
     },
     "metadata": {
      "needs_background": "light"
     },
     "output_type": "display_data"
    }
   ],
   "source": [
    "female = df[df[\"Gender\"] == \"Female\"].copy()\n",
    "female20_1y = female[(female[\"AgeGroup\"] == \"20's\") & (female[\"Vehicle_Age\"] == \"< 1 Year\")]\n",
    "display(\"The minimum day for female customers in 20's with this company is \" + str(min(female20_1y.Vintage)))\n",
    "display(\"The maximum day for female customers in 20's with this company is \" + str(max(female20_1y.Vintage)))\n",
    "print(\"\")\n",
    "display(female20_1y.Vintage.plot.hist())"
   ]
  },
  {
   "cell_type": "markdown",
   "metadata": {},
   "source": [
    "It's close to a uniform distribution for female customer in 20s. What about the only for the female customers who are interested in vehicle insurance as well?"
   ]
  },
  {
   "cell_type": "code",
   "execution_count": 15,
   "metadata": {},
   "outputs": [
    {
     "data": {
      "text/plain": [
       "<matplotlib.axes._subplots.AxesSubplot at 0x1fb80e91e50>"
      ]
     },
     "execution_count": 15,
     "metadata": {},
     "output_type": "execute_result"
    },
    {
     "data": {
      "image/png": "[encoded data removed]",
      "text/plain": [
       "<Figure size 432x288 with 1 Axes>"
      ]
     },
     "metadata": {
      "needs_background": "light"
     },
     "output_type": "display_data"
    }
   ],
   "source": [
    "female20_1y[female20_1y.Response == 1][\"Vintage\"].plot.hist()"
   ]
  },
  {
   "cell_type": "markdown",
   "metadata": {},
   "source": [
    "We also observe that female customer (20s and < 1 year) are interested throughout their time with this company."
   ]
  },
  {
   "cell_type": "code",
   "execution_count": 16,
   "metadata": {},
   "outputs": [
    {
     "data": {
      "text/plain": [
       "\"The minimum day for female customers in 20's with this company is 10\""
      ]
     },
     "metadata": {},
     "output_type": "display_data"
    },
    {
     "data": {
      "text/plain": [
       "\"The maximum day for female customers in 20's with this company is 299\""
      ]
     },
     "metadata": {},
     "output_type": "display_data"
    },
    {
     "name": "stdout",
     "output_type": "stream",
     "text": [
      "\n"
     ]
    },
    {
     "data": {
      "text/plain": [
       "<matplotlib.axes._subplots.AxesSubplot at 0x1fb80ef4040>"
      ]
     },
     "metadata": {},
     "output_type": "display_data"
    },
    {
     "data": {
      "image/png": "[encoded data removed]",
      "text/plain": [
       "<Figure size 432x288 with 1 Axes>"
      ]
     },
     "metadata": {
      "needs_background": "light"
     },
     "output_type": "display_data"
    }
   ],
   "source": [
    "male = df[df[\"Gender\"] == \"Male\"].copy()\n",
    "male20_1y = male[(male[\"AgeGroup\"] == \"20's\") & (male[\"Vehicle_Age\"] == \"< 1 Year\")]\n",
    "display(\"The minimum day for female customers in 20's with this company is \" + str(min(male20_1y.Vintage)))\n",
    "display(\"The maximum day for female customers in 20's with this company is \" + str(max(male20_1y.Vintage)))\n",
    "print(\"\")\n",
    "display(male20_1y.Vintage.plot.hist())"
   ]
  },
  {
   "cell_type": "markdown",
   "metadata": {},
   "source": [
    "Same plots were made for all ages for customers. They all have union distributions."
   ]
  },
  {
   "cell_type": "code",
   "execution_count": 17,
   "metadata": {},
   "outputs": [
    {
     "data": {
      "text/plain": [
       "<seaborn.axisgrid.FacetGrid at 0x1fb80eff220>"
      ]
     },
     "execution_count": 17,
     "metadata": {},
     "output_type": "execute_result"
    },
    {
     "data": {
      "image/png": "[encoded data removed]",
      "text/plain": [
       "<Figure size 1512x432 with 14 Axes>"
      ]
     },
     "metadata": {
      "needs_background": "light"
     },
     "output_type": "display_data"
    }
   ],
   "source": [
    "sns.displot(df, x=\"Vintage\", col=\"AgeGroup\", row=\"Response\", binwidth=3, height=3, facet_kws=dict(margin_titles=True))"
   ]
  },
  {
   "cell_type": "markdown",
   "metadata": {},
   "source": [
    "The male customers' minimum and maximum days are same as female.  \n",
    "As Indian community average age for marriage is in early 20's (Dutta, 2020) and as their income increases over the years (Average Salary Survey), like most families, parents have responsibilities to take care of the family and get better income as they gain experience.\n",
    "Customrs in the 40's were most interested in vehicle insurance compared with other ages and we see 30's and 50's the next and 20's with less interest compared with the above age groups.  \n",
    "Customers in their 40's are parents who would concern about the cost of vehicle repair or even life insurance to avoid passing financial burden to their family member. Thus, they seem to be more interested in any timeline when the question was made to them if they are interested in vehicle insurance. 30's were next because their children are growing and they have more financial responsibilities compared when they were in 20's. 50's are less interested compared to 40's as their children are adults who can support themselves. 20's with lowest interest compared to other three groups because they just started their career and most likely want to save as much as they can to purchase home or pay for their wedding."
   ]
  },
  {
   "cell_type": "code",
   "execution_count": 18,
   "metadata": {},
   "outputs": [
    {
     "data": {
      "text/plain": [
       "1    380297\n",
       "0       812\n",
       "Name: Driving_License, dtype: int64"
      ]
     },
     "execution_count": 18,
     "metadata": {},
     "output_type": "execute_result"
    }
   ],
   "source": [
    "df[\"Driving_License\"].value_counts()"
   ]
  },
  {
   "cell_type": "markdown",
   "metadata": {},
   "source": [
    "812 customers do not hold driver license number. Does this group also interested obtaining vehicle insurance?"
   ]
  },
  {
   "cell_type": "code",
   "execution_count": 19,
   "metadata": {},
   "outputs": [
    {
     "data": {
      "text/plain": [
       "0    771\n",
       "1     41\n",
       "Name: Response, dtype: int64"
      ]
     },
     "execution_count": 19,
     "metadata": {},
     "output_type": "execute_result"
    }
   ],
   "source": [
    "df[df[\"Driving_License\"] == 0][\"Response\"].value_counts()"
   ]
  },
  {
   "cell_type": "markdown",
   "metadata": {},
   "source": [
    "Three are 41 customers who are interested in vehicle insurance."
   ]
  },
  {
   "cell_type": "code",
   "execution_count": 20,
   "metadata": {},
   "outputs": [
    {
     "data": {
      "text/plain": [
       "50's    19\n",
       "60's    14\n",
       "70's     4\n",
       "40's     4\n",
       "80's     0\n",
       "30's     0\n",
       "20's     0\n",
       "Name: AgeGroup, dtype: int64"
      ]
     },
     "execution_count": 20,
     "metadata": {},
     "output_type": "execute_result"
    }
   ],
   "source": [
    "fourtyone = df[df[\"Driving_License\"] == 0].copy()\n",
    "fourtyone = fourtyone[fourtyone.Response == 1]\n",
    "fourtyone.AgeGroup.value_counts()"
   ]
  },
  {
   "cell_type": "markdown",
   "metadata": {},
   "source": [
    "Older generation who do not hold driver license were intersted in vehicle insurance"
   ]
  },
  {
   "cell_type": "markdown",
   "metadata": {},
   "source": [
    "# Group by location"
   ]
  },
  {
   "cell_type": "code",
   "execution_count": 21,
   "metadata": {},
   "outputs": [],
   "source": [
    "location = np.round(df.groupby([\"Region_Code\"]).agg({\"Annual_Premium\":\"mean\", \"Response\":\"sum\", \"allOne\":\"count\"}).reset_index(),0)"
   ]
  },
  {
   "cell_type": "code",
   "execution_count": 22,
   "metadata": {},
   "outputs": [],
   "source": [
    "location[\"Perc.(%)\"] = round(location[\"Response\"]/location[\"allOne\"] *100,1)\n",
    "location.rename(columns={\"allOne\":\"Customer_Num.\"}, inplace=True)"
   ]
  },
  {
   "cell_type": "code",
   "execution_count": 23,
   "metadata": {},
   "outputs": [
    {
     "data": {
      "text/html": [
       "<div>\n",
       "<style scoped>\n",
       "    .dataframe tbody tr th:only-of-type {\n",
       "        vertical-align: middle;\n",
       "    }\n",
       "\n",
       "    .dataframe tbody tr th {\n",
       "        vertical-align: top;\n",
       "    }\n",
       "\n",
       "    .dataframe thead th {\n",
       "        text-align: right;\n",
       "    }\n",
       "</style>\n",
       "<table border=\"1\" class=\"dataframe\">\n",
       "  <thead>\n",
       "    <tr style=\"text-align: right;\">\n",
       "      <th></th>\n",
       "      <th>Region_Code</th>\n",
       "      <th>Annual_Premium</th>\n",
       "      <th>Response</th>\n",
       "      <th>Customer_Num.</th>\n",
       "      <th>Perc.(%)</th>\n",
       "    </tr>\n",
       "  </thead>\n",
       "  <tbody>\n",
       "    <tr>\n",
       "      <th>0</th>\n",
       "      <td>0.0</td>\n",
       "      <td>3048.0</td>\n",
       "      <td>174</td>\n",
       "      <td>2021</td>\n",
       "      <td>8.6</td>\n",
       "    </tr>\n",
       "    <tr>\n",
       "      <th>1</th>\n",
       "      <td>1.0</td>\n",
       "      <td>2711.0</td>\n",
       "      <td>109</td>\n",
       "      <td>1008</td>\n",
       "      <td>10.8</td>\n",
       "    </tr>\n",
       "    <tr>\n",
       "      <th>2</th>\n",
       "      <td>2.0</td>\n",
       "      <td>26955.0</td>\n",
       "      <td>287</td>\n",
       "      <td>4038</td>\n",
       "      <td>7.1</td>\n",
       "    </tr>\n",
       "    <tr>\n",
       "      <th>3</th>\n",
       "      <td>3.0</td>\n",
       "      <td>24524.0</td>\n",
       "      <td>1181</td>\n",
       "      <td>9251</td>\n",
       "      <td>12.8</td>\n",
       "    </tr>\n",
       "    <tr>\n",
       "      <th>4</th>\n",
       "      <td>4.0</td>\n",
       "      <td>23596.0</td>\n",
       "      <td>285</td>\n",
       "      <td>1801</td>\n",
       "      <td>15.8</td>\n",
       "    </tr>\n",
       "    <tr>\n",
       "      <th>...</th>\n",
       "      <td>...</td>\n",
       "      <td>...</td>\n",
       "      <td>...</td>\n",
       "      <td>...</td>\n",
       "      <td>...</td>\n",
       "    </tr>\n",
       "    <tr>\n",
       "      <th>48</th>\n",
       "      <td>48.0</td>\n",
       "      <td>2697.0</td>\n",
       "      <td>477</td>\n",
       "      <td>4681</td>\n",
       "      <td>10.2</td>\n",
       "    </tr>\n",
       "    <tr>\n",
       "      <th>49</th>\n",
       "      <td>49.0</td>\n",
       "      <td>23545.0</td>\n",
       "      <td>137</td>\n",
       "      <td>1832</td>\n",
       "      <td>7.5</td>\n",
       "    </tr>\n",
       "    <tr>\n",
       "      <th>50</th>\n",
       "      <td>50.0</td>\n",
       "      <td>30955.0</td>\n",
       "      <td>642</td>\n",
       "      <td>10243</td>\n",
       "      <td>6.3</td>\n",
       "    </tr>\n",
       "    <tr>\n",
       "      <th>51</th>\n",
       "      <td>51.0</td>\n",
       "      <td>28013.0</td>\n",
       "      <td>28</td>\n",
       "      <td>183</td>\n",
       "      <td>15.3</td>\n",
       "    </tr>\n",
       "    <tr>\n",
       "      <th>52</th>\n",
       "      <td>52.0</td>\n",
       "      <td>30334.0</td>\n",
       "      <td>33</td>\n",
       "      <td>267</td>\n",
       "      <td>12.4</td>\n",
       "    </tr>\n",
       "  </tbody>\n",
       "</table>\n",
       "<p>53 rows × 5 columns</p>\n",
       "</div>"
      ],
      "text/plain": [
       "    Region_Code  Annual_Premium  Response  Customer_Num.  Perc.(%)\n",
       "0           0.0          3048.0       174           2021       8.6\n",
       "1           1.0          2711.0       109           1008      10.8\n",
       "2           2.0         26955.0       287           4038       7.1\n",
       "3           3.0         24524.0      1181           9251      12.8\n",
       "4           4.0         23596.0       285           1801      15.8\n",
       "..          ...             ...       ...            ...       ...\n",
       "48         48.0          2697.0       477           4681      10.2\n",
       "49         49.0         23545.0       137           1832       7.5\n",
       "50         50.0         30955.0       642          10243       6.3\n",
       "51         51.0         28013.0        28            183      15.3\n",
       "52         52.0         30334.0        33            267      12.4\n",
       "\n",
       "[53 rows x 5 columns]"
      ]
     },
     "execution_count": 23,
     "metadata": {},
     "output_type": "execute_result"
    }
   ],
   "source": [
    "pd.set_option('display.max_rows', 30)\n",
    "location"
   ]
  },
  {
   "cell_type": "code",
   "execution_count": 43,
   "metadata": {},
   "outputs": [
    {
     "data": {
      "text/html": [
       "<div>\n",
       "<style scoped>\n",
       "    .dataframe tbody tr th:only-of-type {\n",
       "        vertical-align: middle;\n",
       "    }\n",
       "\n",
       "    .dataframe tbody tr th {\n",
       "        vertical-align: top;\n",
       "    }\n",
       "\n",
       "    .dataframe thead th {\n",
       "        text-align: right;\n",
       "    }\n",
       "</style>\n",
       "<table border=\"1\" class=\"dataframe\">\n",
       "  <thead>\n",
       "    <tr style=\"text-align: right;\">\n",
       "      <th></th>\n",
       "      <th>Region_Code</th>\n",
       "      <th>Annual_Premium</th>\n",
       "      <th>Response</th>\n",
       "      <th>Customer_Num.</th>\n",
       "      <th>Perc.(%)</th>\n",
       "    </tr>\n",
       "  </thead>\n",
       "  <tbody>\n",
       "    <tr>\n",
       "      <th>38</th>\n",
       "      <td>38.0</td>\n",
       "      <td>23396.0</td>\n",
       "      <td>389</td>\n",
       "      <td>2026</td>\n",
       "      <td>19.2</td>\n",
       "    </tr>\n",
       "    <tr>\n",
       "      <th>28</th>\n",
       "      <td>28.0</td>\n",
       "      <td>38669.0</td>\n",
       "      <td>19917</td>\n",
       "      <td>106415</td>\n",
       "      <td>18.7</td>\n",
       "    </tr>\n",
       "    <tr>\n",
       "      <th>19</th>\n",
       "      <td>19.0</td>\n",
       "      <td>26575.0</td>\n",
       "      <td>250</td>\n",
       "      <td>1535</td>\n",
       "      <td>16.3</td>\n",
       "    </tr>\n",
       "    <tr>\n",
       "      <th>4</th>\n",
       "      <td>4.0</td>\n",
       "      <td>23596.0</td>\n",
       "      <td>285</td>\n",
       "      <td>1801</td>\n",
       "      <td>15.8</td>\n",
       "    </tr>\n",
       "    <tr>\n",
       "      <th>51</th>\n",
       "      <td>51.0</td>\n",
       "      <td>28013.0</td>\n",
       "      <td>28</td>\n",
       "      <td>183</td>\n",
       "      <td>15.3</td>\n",
       "    </tr>\n",
       "    <tr>\n",
       "      <th>23</th>\n",
       "      <td>23.0</td>\n",
       "      <td>23275.0</td>\n",
       "      <td>300</td>\n",
       "      <td>1960</td>\n",
       "      <td>15.3</td>\n",
       "    </tr>\n",
       "    <tr>\n",
       "      <th>24</th>\n",
       "      <td>24.0</td>\n",
       "      <td>25768.0</td>\n",
       "      <td>342</td>\n",
       "      <td>2415</td>\n",
       "      <td>14.2</td>\n",
       "    </tr>\n",
       "    <tr>\n",
       "      <th>18</th>\n",
       "      <td>18.0</td>\n",
       "      <td>26812.0</td>\n",
       "      <td>678</td>\n",
       "      <td>5153</td>\n",
       "      <td>13.2</td>\n",
       "    </tr>\n",
       "    <tr>\n",
       "      <th>7</th>\n",
       "      <td>7.0</td>\n",
       "      <td>25466.0</td>\n",
       "      <td>432</td>\n",
       "      <td>3279</td>\n",
       "      <td>13.2</td>\n",
       "    </tr>\n",
       "    <tr>\n",
       "      <th>3</th>\n",
       "      <td>3.0</td>\n",
       "      <td>24524.0</td>\n",
       "      <td>1181</td>\n",
       "      <td>9251</td>\n",
       "      <td>12.8</td>\n",
       "    </tr>\n",
       "    <tr>\n",
       "      <th>35</th>\n",
       "      <td>35.0</td>\n",
       "      <td>26833.0</td>\n",
       "      <td>865</td>\n",
       "      <td>6942</td>\n",
       "      <td>12.5</td>\n",
       "    </tr>\n",
       "    <tr>\n",
       "      <th>52</th>\n",
       "      <td>52.0</td>\n",
       "      <td>30334.0</td>\n",
       "      <td>33</td>\n",
       "      <td>267</td>\n",
       "      <td>12.4</td>\n",
       "    </tr>\n",
       "    <tr>\n",
       "      <th>39</th>\n",
       "      <td>39.0</td>\n",
       "      <td>26883.0</td>\n",
       "      <td>574</td>\n",
       "      <td>4644</td>\n",
       "      <td>12.4</td>\n",
       "    </tr>\n",
       "    <tr>\n",
       "      <th>29</th>\n",
       "      <td>29.0</td>\n",
       "      <td>29415.0</td>\n",
       "      <td>1365</td>\n",
       "      <td>11065</td>\n",
       "      <td>12.3</td>\n",
       "    </tr>\n",
       "    <tr>\n",
       "      <th>41</th>\n",
       "      <td>41.0</td>\n",
       "      <td>30949.0</td>\n",
       "      <td>2224</td>\n",
       "      <td>18263</td>\n",
       "      <td>12.2</td>\n",
       "    </tr>\n",
       "    <tr>\n",
       "      <th>40</th>\n",
       "      <td>40.0</td>\n",
       "      <td>26388.0</td>\n",
       "      <td>153</td>\n",
       "      <td>1295</td>\n",
       "      <td>11.8</td>\n",
       "    </tr>\n",
       "    <tr>\n",
       "      <th>5</th>\n",
       "      <td>5.0</td>\n",
       "      <td>24069.0</td>\n",
       "      <td>148</td>\n",
       "      <td>1279</td>\n",
       "      <td>11.6</td>\n",
       "    </tr>\n",
       "    <tr>\n",
       "      <th>20</th>\n",
       "      <td>20.0</td>\n",
       "      <td>2782.0</td>\n",
       "      <td>223</td>\n",
       "      <td>1935</td>\n",
       "      <td>11.5</td>\n",
       "    </tr>\n",
       "    <tr>\n",
       "      <th>11</th>\n",
       "      <td>11.0</td>\n",
       "      <td>27607.0</td>\n",
       "      <td>1041</td>\n",
       "      <td>9232</td>\n",
       "      <td>11.3</td>\n",
       "    </tr>\n",
       "    <tr>\n",
       "      <th>45</th>\n",
       "      <td>45.0</td>\n",
       "      <td>25266.0</td>\n",
       "      <td>615</td>\n",
       "      <td>5605</td>\n",
       "      <td>11.0</td>\n",
       "    </tr>\n",
       "  </tbody>\n",
       "</table>\n",
       "</div>"
      ],
      "text/plain": [
       "    Region_Code  Annual_Premium  Response  Customer_Num.  Perc.(%)\n",
       "38         38.0         23396.0       389           2026      19.2\n",
       "28         28.0         38669.0     19917         106415      18.7\n",
       "19         19.0         26575.0       250           1535      16.3\n",
       "4           4.0         23596.0       285           1801      15.8\n",
       "51         51.0         28013.0        28            183      15.3\n",
       "23         23.0         23275.0       300           1960      15.3\n",
       "24         24.0         25768.0       342           2415      14.2\n",
       "18         18.0         26812.0       678           5153      13.2\n",
       "7           7.0         25466.0       432           3279      13.2\n",
       "3           3.0         24524.0      1181           9251      12.8\n",
       "35         35.0         26833.0       865           6942      12.5\n",
       "52         52.0         30334.0        33            267      12.4\n",
       "39         39.0         26883.0       574           4644      12.4\n",
       "29         29.0         29415.0      1365          11065      12.3\n",
       "41         41.0         30949.0      2224          18263      12.2\n",
       "40         40.0         26388.0       153           1295      11.8\n",
       "5           5.0         24069.0       148           1279      11.6\n",
       "20         20.0          2782.0       223           1935      11.5\n",
       "11         11.0         27607.0      1041           9232      11.3\n",
       "45         45.0         25266.0       615           5605      11.0"
      ]
     },
     "execution_count": 43,
     "metadata": {},
     "output_type": "execute_result"
    }
   ],
   "source": [
    "location.sort_values(\"Perc.(%)\", ascending=False).head(20)"
   ]
  },
  {
   "cell_type": "code",
   "execution_count": 29,
   "metadata": {},
   "outputs": [
    {
     "data": {
      "text/plain": [
       "(array([ 0,  1,  2,  3,  4,  5,  6,  7,  8,  9, 10, 11, 12, 13, 14, 15, 16,\n",
       "        17, 18, 19, 20, 21, 22, 23, 24, 25, 26, 27, 28, 29, 30, 31, 32, 33,\n",
       "        34, 35, 36, 37, 38, 39, 40, 41, 42, 43, 44, 45, 46, 47, 48, 49, 50,\n",
       "        51, 52]),\n",
       " <a list of 53 Text major ticklabel objects>)"
      ]
     },
     "execution_count": 29,
     "metadata": {},
     "output_type": "execute_result"
    },
    {
     "data": {
      "image/png": "[encoded data removed]",
      "text/plain": [
       "<Figure size 432x288 with 1 Axes>"
      ]
     },
     "metadata": {
      "needs_background": "light"
     },
     "output_type": "display_data"
    }
   ],
   "source": [
    "# sns.displot(, x=\"Annual_Premium\", col=\"Response\", binwidth=3, height=3)\n",
    "sns.barplot(x=location[\"Annual_Premium\"], y=location[\"Response\"], palette=\"deep\")\n",
    "plt.xticks(rotation=90)"
   ]
  },
  {
   "cell_type": "code",
   "execution_count": 44,
   "metadata": {},
   "outputs": [
    {
     "data": {
      "text/html": [
       "<div>\n",
       "<style scoped>\n",
       "    .dataframe tbody tr th:only-of-type {\n",
       "        vertical-align: middle;\n",
       "    }\n",
       "\n",
       "    .dataframe tbody tr th {\n",
       "        vertical-align: top;\n",
       "    }\n",
       "\n",
       "    .dataframe thead th {\n",
       "        text-align: right;\n",
       "    }\n",
       "</style>\n",
       "<table border=\"1\" class=\"dataframe\">\n",
       "  <thead>\n",
       "    <tr style=\"text-align: right;\">\n",
       "      <th></th>\n",
       "      <th>Response</th>\n",
       "    </tr>\n",
       "    <tr>\n",
       "      <th>Annual_Premium</th>\n",
       "      <th></th>\n",
       "    </tr>\n",
       "  </thead>\n",
       "  <tbody>\n",
       "    <tr>\n",
       "      <th>38669.0</th>\n",
       "      <td>19917</td>\n",
       "    </tr>\n",
       "    <tr>\n",
       "      <th>36468.0</th>\n",
       "      <td>3257</td>\n",
       "    </tr>\n",
       "    <tr>\n",
       "      <th>30949.0</th>\n",
       "      <td>2224</td>\n",
       "    </tr>\n",
       "    <tr>\n",
       "      <th>27207.0</th>\n",
       "      <td>2032</td>\n",
       "    </tr>\n",
       "    <tr>\n",
       "      <th>29415.0</th>\n",
       "      <td>1365</td>\n",
       "    </tr>\n",
       "    <tr>\n",
       "      <th>24524.0</th>\n",
       "      <td>1181</td>\n",
       "    </tr>\n",
       "    <tr>\n",
       "      <th>27607.0</th>\n",
       "      <td>1041</td>\n",
       "    </tr>\n",
       "    <tr>\n",
       "      <th>29625.0</th>\n",
       "      <td>958</td>\n",
       "    </tr>\n",
       "    <tr>\n",
       "      <th>25483.0</th>\n",
       "      <td>900</td>\n",
       "    </tr>\n",
       "    <tr>\n",
       "      <th>26833.0</th>\n",
       "      <td>865</td>\n",
       "    </tr>\n",
       "    <tr>\n",
       "      <th>27764.0</th>\n",
       "      <td>760</td>\n",
       "    </tr>\n",
       "    <tr>\n",
       "      <th>29376.0</th>\n",
       "      <td>703</td>\n",
       "    </tr>\n",
       "    <tr>\n",
       "      <th>26812.0</th>\n",
       "      <td>678</td>\n",
       "    </tr>\n",
       "    <tr>\n",
       "      <th>30225.0</th>\n",
       "      <td>652</td>\n",
       "    </tr>\n",
       "    <tr>\n",
       "      <th>30955.0</th>\n",
       "      <td>642</td>\n",
       "    </tr>\n",
       "    <tr>\n",
       "      <th>25266.0</th>\n",
       "      <td>615</td>\n",
       "    </tr>\n",
       "    <tr>\n",
       "      <th>26883.0</th>\n",
       "      <td>574</td>\n",
       "    </tr>\n",
       "    <tr>\n",
       "      <th>2697.0</th>\n",
       "      <td>477</td>\n",
       "    </tr>\n",
       "    <tr>\n",
       "      <th>25132.0</th>\n",
       "      <td>439</td>\n",
       "    </tr>\n",
       "    <tr>\n",
       "      <th>28502.0</th>\n",
       "      <td>436</td>\n",
       "    </tr>\n",
       "  </tbody>\n",
       "</table>\n",
       "</div>"
      ],
      "text/plain": [
       "                Response\n",
       "Annual_Premium          \n",
       "38669.0            19917\n",
       "36468.0             3257\n",
       "30949.0             2224\n",
       "27207.0             2032\n",
       "29415.0             1365\n",
       "24524.0             1181\n",
       "27607.0             1041\n",
       "29625.0              958\n",
       "25483.0              900\n",
       "26833.0              865\n",
       "27764.0              760\n",
       "29376.0              703\n",
       "26812.0              678\n",
       "30225.0              652\n",
       "30955.0              642\n",
       "25266.0              615\n",
       "26883.0              574\n",
       "2697.0               477\n",
       "25132.0              439\n",
       "28502.0              436"
      ]
     },
     "execution_count": 44,
     "metadata": {},
     "output_type": "execute_result"
    }
   ],
   "source": [
    "Annual_premium_response = location.groupby(\"Annual_Premium\").agg({\"Response\":\"sum\"}).sort_values(by=[\"Response\"], ascending = False)\n",
    "Annual_premium_response.head(20)"
   ]
  },
  {
   "cell_type": "code",
   "execution_count": 28,
   "metadata": {},
   "outputs": [
    {
     "data": {
      "text/plain": [
       "10.086792452830187"
      ]
     },
     "metadata": {},
     "output_type": "display_data"
    },
    {
     "data": {
      "text/plain": [
       "381109"
      ]
     },
     "metadata": {},
     "output_type": "display_data"
    }
   ],
   "source": [
    "display(location[\"Perc.(%)\"].mean())\n",
    "display(location[\"Customer_Num.\"].sum())"
   ]
  },
  {
   "cell_type": "markdown",
   "metadata": {},
   "source": [
    "Overall with an average of 10% health insurance customers are interested in vehicle insurance. People who paid the most expensive annual premium (average = 38669 rps) are interest in vehicle insurance far exceeding (N=19917) to any other annual health insurance subscribers. This same group is also the 2nd highest in the region with the 18.7% response with interest."
   ]
  },
  {
   "cell_type": "markdown",
   "metadata": {},
   "source": [
    "# Group by \"PolicySalesChannel\""
   ]
  },
  {
   "cell_type": "code",
   "execution_count": 53,
   "metadata": {},
   "outputs": [
    {
     "data": {
      "text/html": [
       "<div>\n",
       "<style scoped>\n",
       "    .dataframe tbody tr th:only-of-type {\n",
       "        vertical-align: middle;\n",
       "    }\n",
       "\n",
       "    .dataframe tbody tr th {\n",
       "        vertical-align: top;\n",
       "    }\n",
       "\n",
       "    .dataframe thead th {\n",
       "        text-align: right;\n",
       "    }\n",
       "</style>\n",
       "<table border=\"1\" class=\"dataframe\">\n",
       "  <thead>\n",
       "    <tr style=\"text-align: right;\">\n",
       "      <th></th>\n",
       "      <th>Policy_Sales_Channel</th>\n",
       "      <th>Response</th>\n",
       "      <th>Customer_Num.</th>\n",
       "      <th>Perc(%)</th>\n",
       "    </tr>\n",
       "  </thead>\n",
       "  <tbody>\n",
       "    <tr>\n",
       "      <th>24</th>\n",
       "      <td>26.0</td>\n",
       "      <td>15891</td>\n",
       "      <td>79700</td>\n",
       "      <td>20.0</td>\n",
       "    </tr>\n",
       "    <tr>\n",
       "      <th>119</th>\n",
       "      <td>124.0</td>\n",
       "      <td>13996</td>\n",
       "      <td>73995</td>\n",
       "      <td>19.0</td>\n",
       "    </tr>\n",
       "    <tr>\n",
       "      <th>145</th>\n",
       "      <td>152.0</td>\n",
       "      <td>3858</td>\n",
       "      <td>134784</td>\n",
       "      <td>3.0</td>\n",
       "    </tr>\n",
       "    <tr>\n",
       "      <th>149</th>\n",
       "      <td>156.0</td>\n",
       "      <td>2297</td>\n",
       "      <td>10661</td>\n",
       "      <td>22.0</td>\n",
       "    </tr>\n",
       "    <tr>\n",
       "      <th>150</th>\n",
       "      <td>157.0</td>\n",
       "      <td>1794</td>\n",
       "      <td>6684</td>\n",
       "      <td>27.0</td>\n",
       "    </tr>\n",
       "    <tr>\n",
       "      <th>117</th>\n",
       "      <td>122.0</td>\n",
       "      <td>1720</td>\n",
       "      <td>9930</td>\n",
       "      <td>17.0</td>\n",
       "    </tr>\n",
       "    <tr>\n",
       "      <th>147</th>\n",
       "      <td>154.0</td>\n",
       "      <td>1474</td>\n",
       "      <td>5993</td>\n",
       "      <td>25.0</td>\n",
       "    </tr>\n",
       "    <tr>\n",
       "      <th>154</th>\n",
       "      <td>163.0</td>\n",
       "      <td>880</td>\n",
       "      <td>2893</td>\n",
       "      <td>30.0</td>\n",
       "    </tr>\n",
       "    <tr>\n",
       "      <th>153</th>\n",
       "      <td>160.0</td>\n",
       "      <td>475</td>\n",
       "      <td>21779</td>\n",
       "      <td>2.0</td>\n",
       "    </tr>\n",
       "    <tr>\n",
       "      <th>148</th>\n",
       "      <td>155.0</td>\n",
       "      <td>395</td>\n",
       "      <td>1234</td>\n",
       "      <td>32.0</td>\n",
       "    </tr>\n",
       "    <tr>\n",
       "      <th>23</th>\n",
       "      <td>25.0</td>\n",
       "      <td>369</td>\n",
       "      <td>1848</td>\n",
       "      <td>20.0</td>\n",
       "    </tr>\n",
       "    <tr>\n",
       "      <th>11</th>\n",
       "      <td>13.0</td>\n",
       "      <td>275</td>\n",
       "      <td>1865</td>\n",
       "      <td>15.0</td>\n",
       "    </tr>\n",
       "    <tr>\n",
       "      <th>53</th>\n",
       "      <td>55.0</td>\n",
       "      <td>189</td>\n",
       "      <td>1264</td>\n",
       "      <td>15.0</td>\n",
       "    </tr>\n",
       "    <tr>\n",
       "      <th>5</th>\n",
       "      <td>7.0</td>\n",
       "      <td>182</td>\n",
       "      <td>1598</td>\n",
       "      <td>11.0</td>\n",
       "    </tr>\n",
       "    <tr>\n",
       "      <th>29</th>\n",
       "      <td>31.0</td>\n",
       "      <td>160</td>\n",
       "      <td>631</td>\n",
       "      <td>25.0</td>\n",
       "    </tr>\n",
       "    <tr>\n",
       "      <th>2</th>\n",
       "      <td>3.0</td>\n",
       "      <td>159</td>\n",
       "      <td>523</td>\n",
       "      <td>30.0</td>\n",
       "    </tr>\n",
       "    <tr>\n",
       "      <th>28</th>\n",
       "      <td>30.0</td>\n",
       "      <td>156</td>\n",
       "      <td>1410</td>\n",
       "      <td>11.0</td>\n",
       "    </tr>\n",
       "    <tr>\n",
       "      <th>151</th>\n",
       "      <td>158.0</td>\n",
       "      <td>135</td>\n",
       "      <td>492</td>\n",
       "      <td>27.0</td>\n",
       "    </tr>\n",
       "    <tr>\n",
       "      <th>10</th>\n",
       "      <td>12.0</td>\n",
       "      <td>132</td>\n",
       "      <td>783</td>\n",
       "      <td>17.0</td>\n",
       "    </tr>\n",
       "    <tr>\n",
       "      <th>120</th>\n",
       "      <td>125.0</td>\n",
       "      <td>127</td>\n",
       "      <td>1026</td>\n",
       "      <td>12.0</td>\n",
       "    </tr>\n",
       "  </tbody>\n",
       "</table>\n",
       "</div>"
      ],
      "text/plain": [
       "     Policy_Sales_Channel  Response  Customer_Num.  Perc(%)\n",
       "24                   26.0     15891          79700     20.0\n",
       "119                 124.0     13996          73995     19.0\n",
       "145                 152.0      3858         134784      3.0\n",
       "149                 156.0      2297          10661     22.0\n",
       "150                 157.0      1794           6684     27.0\n",
       "117                 122.0      1720           9930     17.0\n",
       "147                 154.0      1474           5993     25.0\n",
       "154                 163.0       880           2893     30.0\n",
       "153                 160.0       475          21779      2.0\n",
       "148                 155.0       395           1234     32.0\n",
       "23                   25.0       369           1848     20.0\n",
       "11                   13.0       275           1865     15.0\n",
       "53                   55.0       189           1264     15.0\n",
       "5                     7.0       182           1598     11.0\n",
       "29                   31.0       160            631     25.0\n",
       "2                     3.0       159            523     30.0\n",
       "28                   30.0       156           1410     11.0\n",
       "151                 158.0       135            492     27.0\n",
       "10                   12.0       132            783     17.0\n",
       "120                 125.0       127           1026     12.0"
      ]
     },
     "metadata": {},
     "output_type": "display_data"
    },
    {
     "data": {
      "text/plain": [
       "(155, 4)"
      ]
     },
     "metadata": {},
     "output_type": "display_data"
    }
   ],
   "source": [
    "channel = np.round(df.groupby([\"Policy_Sales_Channel\"]).agg({\"Response\":\"sum\", \"allOne\":\"count\"}).reset_index(),0).sort_values(\"Response\", ascending=False)\n",
    "channel[\"Perc(%)\"] = round(channel[\"Response\"] / channel[\"allOne\"] *100,0)\n",
    "channel.rename(columns={\"allOne\":\"Customer_Num.\"}, inplace=True)\n",
    "display(channel.sort_values(\"Response\", ascending=False).head(20))\n",
    "display(channel.shape)"
   ]
  },
  {
   "cell_type": "markdown",
   "metadata": {},
   "source": [
    "This company used 155 ways to reach out to the customer. Out of 155, only a few were effective (15% >). The company needs to focus on the higher yield approach to be cost effective as well as success in selling the vehicle insurance."
   ]
  },
  {
   "cell_type": "markdown",
   "metadata": {},
   "source": [
    "# Summary\n",
    "In summary, we observed that people who were mostly interested in vehicle insurance are in 40's.  \n",
    "People who are most interested in vehicle insurance are the people with highest annual premium fee.  \n",
    "The most number of responses were using channel 24 (N=15891, 20%) and 119 (N=13996, 19%). Channel 149 (N=2297, 22% resoponse), 150 (N=1794, 27%), 147 (N=1474, 25%), and 154 (N=880, 30%) should be considered to be used for better marketing approach. However, I do not have the information how much each channel cost to deliver the message to the customer. For example, if channel 24 (20% response) spent \\\\$1 for each delivery and channel 154 (30% reponse) spent \\\\$3, it is not worth to change the marketing strategy. (This also depends on the budget of the market campaign)."
   ]
  },
  {
   "cell_type": "markdown",
   "metadata": {},
   "source": [
    "### Citation\n",
    "\n",
    "Dutta, T. (2020, August 31). India considers raising marriage age. Retrieved October 28, 2020, from https://www.thenationalnews.com/world/asia/india-considers-raising-marriage-age-1.1070867\n",
    "India: 2019/20 Average Salary Survey. (n.d.). Retrieved October 28, 2020, from https://www.averagesalarysurvey.com/india"
   ]
  },
  {
   "cell_type": "code",
   "execution_count": null,
   "metadata": {},
   "outputs": [],
   "source": []
  }
 ],
 "metadata": {
  "kernelspec": {
   "display_name": "Python 3",
   "language": "python",
   "name": "python3"
  },
  "language_info": {
   "codemirror_mode": {
    "name": "ipython",
    "version": 3
   },
   "file_extension": ".py",
   "mimetype": "text/x-python",
   "name": "python",
   "nbconvert_exporter": "python",
   "pygments_lexer": "ipython3",
   "version": "3.8.3"
  }
 },
 "nbformat": 4,
 "nbformat_minor": 4
}
